{
  "nbformat": 4,
  "nbformat_minor": 0,
  "metadata": {
    "colab": {
      "provenance": [],
      "authorship_tag": "ABX9TyMUhWsIW1L2tFMPavBAgiaN",
      "include_colab_link": true
    },
    "kernelspec": {
      "name": "python3",
      "display_name": "Python 3"
    },
    "language_info": {
      "name": "python"
    }
  },
  "cells": [
    {
      "cell_type": "markdown",
      "metadata": {
        "id": "view-in-github",
        "colab_type": "text"
      },
      "source": [
        "<a href=\"https://colab.research.google.com/github/jessicaramos20/python/blob/main/imersaoalurapython.ipynb\" target=\"_parent\"><img src=\"https://colab.research.google.com/assets/colab-badge.svg\" alt=\"Open In Colab\"/></a>"
      ]
    },
    {
      "cell_type": "code",
      "execution_count": 1,
      "metadata": {
        "id": "M4zaRcrz-7U0"
      },
      "outputs": [],
      "source": [
        "saudacao = 'Olá, pessoal!'"
      ]
    },
    {
      "cell_type": "code",
      "source": [
        "saudacao"
      ],
      "metadata": {
        "colab": {
          "base_uri": "https://localhost:8080/",
          "height": 35
        },
        "id": "HGQrWPcY_YDX",
        "outputId": "7f04dffd-c70e-45f3-ba88-4940e9a3cd0a"
      },
      "execution_count": 2,
      "outputs": [
        {
          "output_type": "execute_result",
          "data": {
            "text/plain": [
              "'Olá, pessoal!'"
            ],
            "application/vnd.google.colaboratory.intrinsic+json": {
              "type": "string"
            }
          },
          "metadata": {},
          "execution_count": 2
        }
      ]
    },
    {
      "cell_type": "code",
      "source": [
        "altura = 1.68\n",
        "altura"
      ],
      "metadata": {
        "colab": {
          "base_uri": "https://localhost:8080/"
        },
        "id": "AxIF3F0q_dli",
        "outputId": "bc3df0d7-5a2e-4239-ec4f-e0117eb51aae"
      },
      "execution_count": 3,
      "outputs": [
        {
          "output_type": "execute_result",
          "data": {
            "text/plain": [
              "1.68"
            ]
          },
          "metadata": {},
          "execution_count": 3
        }
      ]
    },
    {
      "cell_type": "code",
      "source": [
        "valores = [42, 100, 1592]\n",
        "valores"
      ],
      "metadata": {
        "colab": {
          "base_uri": "https://localhost:8080/"
        },
        "id": "nF_TTjVC_0Nq",
        "outputId": "796d3627-9741-4c9b-8809-90f02ce98ef7"
      },
      "execution_count": 4,
      "outputs": [
        {
          "output_type": "execute_result",
          "data": {
            "text/plain": [
              "[42, 100, 1592]"
            ]
          },
          "metadata": {},
          "execution_count": 4
        }
      ]
    },
    {
      "cell_type": "code",
      "source": [
        "idade = 19\n",
        "\n",
        "if idade >= 18:\n",
        "  print (\"Pode dirigir\")\n",
        "  print (\"Pode estudar na Alura\")\n",
        "else:\n",
        "  print (\"Não pode dirigir\")\n",
        "  print (\"Não pode estudar na Alura\")"
      ],
      "metadata": {
        "colab": {
          "base_uri": "https://localhost:8080/"
        },
        "id": "tb-Sr1cXAjCH",
        "outputId": "460a291d-d6f6-4936-d4ef-37dcd38d05a5"
      },
      "execution_count": 9,
      "outputs": [
        {
          "output_type": "stream",
          "name": "stdout",
          "text": [
            "Pode dirigir\n",
            "Pode estudar na Alura\n"
          ]
        }
      ]
    },
    {
      "cell_type": "code",
      "source": [
        "10 == 10\n"
      ],
      "metadata": {
        "colab": {
          "base_uri": "https://localhost:8080/"
        },
        "id": "anYn2bxQCCnF",
        "outputId": "2355f495-5c1b-461c-a05a-6e86e7cb59aa"
      },
      "execution_count": 11,
      "outputs": [
        {
          "output_type": "execute_result",
          "data": {
            "text/plain": [
              "True"
            ]
          },
          "metadata": {},
          "execution_count": 11
        }
      ]
    },
    {
      "cell_type": "code",
      "source": [
        "def saudar():\n",
        "  print (\"olá, mundo\")\n",
        "\n",
        "saudar()"
      ],
      "metadata": {
        "colab": {
          "base_uri": "https://localhost:8080/"
        },
        "id": "ile1hjwQFgI5",
        "outputId": "5ce1f7f2-1a23-4c65-f220-2949049e56e8"
      },
      "execution_count": 13,
      "outputs": [
        {
          "output_type": "stream",
          "name": "stdout",
          "text": [
            "olá, mundo\n"
          ]
        }
      ]
    },
    {
      "cell_type": "code",
      "source": [
        "def saudar(nome):\n",
        "  nome = input ( \"qual o seu nome?\" )\n",
        "  print (f\"Olá,{nome} !\")\n",
        "\n",
        "saudar()\n"
      ],
      "metadata": {
        "colab": {
          "base_uri": "https://localhost:8080/"
        },
        "id": "8ZUfpDV-IEFj",
        "outputId": "06a2887d-2ef2-4376-c509-a60f9e34ec5d"
      },
      "execution_count": 19,
      "outputs": [
        {
          "output_type": "stream",
          "name": "stdout",
          "text": [
            "qual o seu nome?Jéssica\n",
            "Olá,Jéssica !\n"
          ]
        }
      ]
    },
    {
      "cell_type": "markdown",
      "source": [],
      "metadata": {
        "id": "z9wzi5gwIoNP"
      }
    }
  ]
}